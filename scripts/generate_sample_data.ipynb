{
 "cells": [
  {
   "cell_type": "code",
   "execution_count": 1,
   "id": "1a37bdde",
   "metadata": {},
   "outputs": [],
   "source": [
    "import pandas as pd\n",
    "import numpy as np\n",
    "from faker import Faker"
   ]
  },
  {
   "cell_type": "code",
   "execution_count": 2,
   "id": "779ff20f",
   "metadata": {},
   "outputs": [],
   "source": [
    "fake = Faker('en_IN')"
   ]
  },
  {
   "cell_type": "code",
   "execution_count": 3,
   "id": "cb81d343",
   "metadata": {},
   "outputs": [],
   "source": [
    "customer_data = []\n",
    "for i in range(1, 1001):\n",
    "    customer = (\n",
    "        i,\n",
    "        fake.name(),\n",
    "        fake.address().replace('\\n', ', '),\n",
    "        fake.phone_number(),\n",
    "        fake.email(),\n",
    "        fake.city()\n",
    "    )\n",
    "    customer_data.append(customer)"
   ]
  },
  {
   "cell_type": "code",
   "execution_count": 4,
   "id": "5b27e09d",
   "metadata": {},
   "outputs": [],
   "source": [
    "categories = ['Electronics', 'Clothing', 'Home Appliances', 'Books', 'Grocery', 'Sports']\n",
    "suppliers = ['Tata', 'Reliance', 'Flipkart', 'Amazon', 'Dmart', 'Big Bazaar']\n",
    "\n",
    "product_data = []\n",
    "for i in range(1, 1001):\n",
    "    product = (\n",
    "        i,\n",
    "        fake.word().title(),\n",
    "        np.random.choice(categories),\n",
    "        round(np.random.uniform(100, 50000), 2),\n",
    "        np.random.randint(1, 1000),\n",
    "        np.random.choice(suppliers)\n",
    "    )\n",
    "    product_data.append(product)"
   ]
  },
  {
   "cell_type": "code",
   "execution_count": 5,
   "id": "58034a70",
   "metadata": {},
   "outputs": [
    {
     "name": "stdout",
     "output_type": "stream",
     "text": [
      "SQL insert files generated successfully.\n"
     ]
    }
   ],
   "source": [
    "with open('insert_customers.sql', 'w', encoding='utf-8') as f:\n",
    "    for row in customer_data:\n",
    "        f.write(\"INSERT INTO Customer (customer_id, name, address, phone, email, city) VALUES {};\\n\".format(row))\n",
    "\n",
    "with open('insert_products.sql', 'w', encoding='utf-8') as f:\n",
    "    for row in product_data:\n",
    "        f.write(\"INSERT INTO Product (product_id, name, category, price, stock_qty, supplier) VALUES {};\\n\".format(row))\n",
    "\n",
    "print(\"SQL insert files generated successfully.\")"
   ]
  },
  {
   "cell_type": "code",
   "execution_count": null,
   "id": "9932e868",
   "metadata": {},
   "outputs": [],
   "source": []
  }
 ],
 "metadata": {
  "kernelspec": {
   "display_name": "Python 3 (ipykernel)",
   "language": "python",
   "name": "python3"
  },
  "language_info": {
   "codemirror_mode": {
    "name": "ipython",
    "version": 3
   },
   "file_extension": ".py",
   "mimetype": "text/x-python",
   "name": "python",
   "nbconvert_exporter": "python",
   "pygments_lexer": "ipython3",
   "version": "3.9.13"
  },
  "latex_envs": {
   "LaTeX_envs_menu_present": true,
   "autoclose": false,
   "autocomplete": true,
   "bibliofile": "biblio.bib",
   "cite_by": "apalike",
   "current_citInitial": 1,
   "eqLabelWithNumbers": true,
   "eqNumInitial": 1,
   "hotkeys": {
    "equation": "Ctrl-E",
    "itemize": "Ctrl-I"
   },
   "labels_anchors": false,
   "latex_user_defs": false,
   "report_style_numbering": false,
   "user_envs_cfg": false
  }
 },
 "nbformat": 4,
 "nbformat_minor": 5
}
